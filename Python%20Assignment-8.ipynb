{
 "cells": [
  {
   "cell_type": "code",
   "execution_count": 1,
   "metadata": {},
   "outputs": [
    {
     "name": "stdout",
     "output_type": "stream",
     "text": [
      "Distance to previous zero of X caluclated in Y\n",
      "\n",
      "   X  Y\n",
      "0  7  1\n",
      "1  2  2\n",
      "2  0  0\n",
      "3  3  1\n",
      "4  4  2\n",
      "5  2  3\n",
      "6  5  4\n",
      "7  0  0\n",
      "8  3  1\n",
      "9  4  2\n"
     ]
    }
   ],
   "source": [
    "# To-count-distance-to-the-previous-zero\n",
    "import pandas as pd\n",
    "counter = 0\n",
    "cal_value = []\n",
    "df = pd.DataFrame({'X': [7, 2, 0, 3, 4, 2, 5, 0, 3, 4]})\n",
    "for index, row in df.iterrows():\n",
    "  if row[\"X\"] != 0:\n",
    "    counter = counter + 1\n",
    "    cal_value.append(counter)\n",
    "  else:\n",
    "    counter = 0\n",
    "    cal_value.append(counter)\n",
    "\n",
    "df[\"Y\"] = cal_value\n",
    "print('Distance to previous zero of X caluclated in Y\\n')\n",
    "print(df)"
   ]
  },
  {
   "cell_type": "code",
   "execution_count": 2,
   "metadata": {},
   "outputs": [
    {
     "name": "stdout",
     "output_type": "stream",
     "text": [
      "DatetimeIndex that contains each business day of 2015\n",
      "\n",
      "2015-01-01    2.706850\n",
      "2015-01-02    0.628133\n",
      "2015-01-05    0.907969\n",
      "2015-01-06    0.503826\n",
      "2015-01-07    0.651118\n",
      "2015-01-08   -0.319318\n",
      "2015-01-09   -0.848077\n",
      "2015-01-12    0.605965\n",
      "2015-01-13   -2.018168\n",
      "2015-01-14    0.740122\n",
      "2015-01-15    0.528813\n",
      "2015-01-16   -0.589001\n",
      "2015-01-19    0.188695\n",
      "2015-01-20   -0.758872\n",
      "2015-01-21   -0.933237\n",
      "2015-01-22    0.955057\n",
      "2015-01-23    0.190794\n",
      "2015-01-26    1.978757\n",
      "2015-01-27    2.605967\n",
      "2015-01-28    0.683509\n",
      "2015-01-29    0.302665\n",
      "2015-01-30    1.693723\n",
      "2015-02-02   -1.706086\n",
      "2015-02-03   -1.159119\n",
      "2015-02-04   -0.134841\n",
      "2015-02-05    0.390528\n",
      "2015-02-06    0.166905\n",
      "2015-02-09    0.184502\n",
      "2015-02-10    0.807706\n",
      "2015-02-11    0.072960\n",
      "                ...   \n",
      "2015-11-20   -1.524856\n",
      "2015-11-23   -0.854860\n",
      "2015-11-24    1.602816\n",
      "2015-11-25    0.185479\n",
      "2015-11-26   -0.994018\n",
      "2015-11-27   -0.131906\n",
      "2015-11-30   -1.335092\n",
      "2015-12-01   -0.089298\n",
      "2015-12-02    0.698566\n",
      "2015-12-03   -1.409126\n",
      "2015-12-04    0.870907\n",
      "2015-12-07    1.585812\n",
      "2015-12-08    0.929658\n",
      "2015-12-09   -0.550876\n",
      "2015-12-10    0.942045\n",
      "2015-12-11   -0.975349\n",
      "2015-12-14   -1.054851\n",
      "2015-12-15    2.165421\n",
      "2015-12-16   -1.267240\n",
      "2015-12-17   -0.802843\n",
      "2015-12-18   -0.253479\n",
      "2015-12-21    0.090699\n",
      "2015-12-22    1.321715\n",
      "2015-12-23    0.794129\n",
      "2015-12-24    1.359712\n",
      "2015-12-25    0.771970\n",
      "2015-12-28    0.294217\n",
      "2015-12-29   -1.391519\n",
      "2015-12-30    0.147486\n",
      "2015-12-31   -0.729466\n",
      "Freq: B, Length: 261, dtype: float64\n"
     ]
    }
   ],
   "source": [
    "# DatetimeIndex that contains each business day of 2015 and use it to index a\n",
    "# Series of random numbers.\n",
    "import pandas as pd\n",
    "import numpy as np\n",
    "from numpy.random import randn as rn\n",
    "np.random.seed(101)\n",
    "start = pd.datetime(2015, 1, 1) #starting year of 2015\n",
    "end = pd.datetime(2015, 12, 31) #ending year of 2015\n",
    "rng = pd.bdate_range(start, end) #take only business day(remove saturday and sunday)\n",
    "ts = pd.Series(rn(len(rng)),         index=rng )\n",
    "print('DatetimeIndex that contains each business day of 2015\\n')\n",
    "print(ts)"
   ]
  },
  {
   "cell_type": "code",
   "execution_count": 4,
   "metadata": {},
   "outputs": [
    {
     "name": "stdout",
     "output_type": "stream",
     "text": [
      "Sum of the value of random considering only Wednesday\n",
      "\n",
      "12.303945511879487\n"
     ]
    }
   ],
   "source": [
    "# sum of the values in s for every Wednesday\n",
    "import pandas as pd\n",
    "import numpy as np\n",
    "from numpy.random import randn as rn\n",
    "np.random.seed(101)\n",
    "start = pd.datetime(2015, 1, 1) #starting year of 2015\n",
    "end = pd.datetime(2015, 12, 31) #ending year of 2015\n",
    "rng = pd.bdate_range(start, end  , freq='W-WED') # take only wednesday\n",
    "ts = pd.Series(rn(len(rng)),         index=rng )\n",
    "print('Sum of the value of random considering only Wednesday\\n')\n",
    "print(ts.sum())"
   ]
  },
  {
   "cell_type": "code",
   "execution_count": 5,
   "metadata": {},
   "outputs": [
    {
     "name": "stdout",
     "output_type": "stream",
     "text": [
      "Average of each calender month\n",
      "\n",
      "2015-01-31    0.472968\n",
      "2015-02-28    0.055223\n",
      "2015-03-31    0.217403\n",
      "2015-04-30    0.075394\n",
      "2015-05-31   -0.222819\n",
      "2015-06-30    0.097893\n",
      "2015-07-31    0.075627\n",
      "2015-08-31   -0.148774\n",
      "2015-09-30   -0.121836\n",
      "2015-10-31    0.171445\n",
      "2015-11-30   -0.193908\n",
      "2015-12-31    0.149926\n",
      "Freq: M, dtype: float64\n"
     ]
    }
   ],
   "source": [
    "# Average For each calendar month\n",
    "import pandas as pd\n",
    "import numpy as np\n",
    "from numpy.random import randn as rn\n",
    "np.random.seed(101)\n",
    "start = pd.datetime(2015, 1, 1) #starting year of 2015 \n",
    "end = pd.datetime(2015, 12, 31) #ending year of 2015\n",
    "rng = pd.bdate_range(start, end)\n",
    "ts = pd.Series(rn(len(rng)),         index=rng )\n",
    "print('Average of each calender month\\n')\n",
    "print(ts.resample('M').mean())"
   ]
  },
  {
   "cell_type": "code",
   "execution_count": 6,
   "metadata": {},
   "outputs": [
    {
     "name": "stdout",
     "output_type": "stream",
     "text": [
      "Highest value in each date of four consecutive mont\n",
      "\n",
      "2015-01-31    2.706850\n",
      "2015-05-31    2.154846\n",
      "2015-09-30    2.493990\n",
      "2016-01-31    2.165421\n",
      "dtype: float64\n"
     ]
    }
   ],
   "source": [
    "# Four consecutive calendar months in s, find the date on which the\n",
    "# highest value occurred.\n",
    "import pandas as pd\n",
    "import numpy as np\n",
    "from numpy.random import randn as rn\n",
    "np.random.seed(101)\n",
    "start = pd.datetime(2015,1, 1) #starting year of 2015 \n",
    "end = pd.datetime(2015, 12, 31) #ending year of 2015\n",
    "rng = pd.bdate_range(start, end)\n",
    "ts = pd.Series(rn(len(rng)),         index=rng )\n",
    "print('Highest value in each date of four consecutive mont\\n') \n",
    "print(ts.resample('4M').max())"
   ]
  },
  {
   "cell_type": "code",
   "execution_count": null,
   "metadata": {},
   "outputs": [],
   "source": []
  }
 ],
 "metadata": {
  "kernelspec": {
   "display_name": "Python 3",
   "language": "python",
   "name": "python3"
  },
  "language_info": {
   "codemirror_mode": {
    "name": "ipython",
    "version": 3
   },
   "file_extension": ".py",
   "mimetype": "text/x-python",
   "name": "python",
   "nbconvert_exporter": "python",
   "pygments_lexer": "ipython3",
   "version": "3.6.5"
  }
 },
 "nbformat": 4,
 "nbformat_minor": 2
}
